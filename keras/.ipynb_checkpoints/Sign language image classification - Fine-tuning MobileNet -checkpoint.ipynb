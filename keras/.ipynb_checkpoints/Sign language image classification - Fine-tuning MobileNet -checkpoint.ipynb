{
 "cells": [
  {
   "cell_type": "code",
   "execution_count": 1,
   "metadata": {},
   "outputs": [
    {
     "name": "stdout",
     "output_type": "stream",
     "text": [
      "/home/v-nitin.gupta/Desktop/keras/Sign-Language-Digits-Dataset\n"
     ]
    }
   ],
   "source": [
    "%cd Sign-Language-Digits-Dataset\n",
    "\n",
    "\n"
   ]
  },
  {
   "cell_type": "code",
   "execution_count": 2,
   "metadata": {},
   "outputs": [
    {
     "name": "stdout",
     "output_type": "stream",
     "text": [
      "mkdir: cannot create directory ‘train’: File exists\n",
      "mkdir: cannot create directory ‘valid’: File exists\n",
      "mkdir: cannot create directory ‘test’: File exists\n"
     ]
    }
   ],
   "source": [
    "%mkdir train\n",
    "%mkdir valid\n",
    "%mkdir test"
   ]
  },
  {
   "cell_type": "code",
   "execution_count": 3,
   "metadata": {},
   "outputs": [
    {
     "name": "stdout",
     "output_type": "stream",
     "text": [
      "/home/v-nitin.gupta/Desktop/keras/Sign-Language-Digits-Dataset/valid\n"
     ]
    }
   ],
   "source": [
    "%cd valid\n"
   ]
  },
  {
   "cell_type": "code",
   "execution_count": 4,
   "metadata": {},
   "outputs": [],
   "source": [
    "%mkdir 0\n",
    "%mkdir 1\n",
    "%mkdir 2\n",
    "%mkdir 3\n",
    "%mkdir 4\n",
    "%mkdir 5\n",
    "%mkdir 6\n",
    "%mkdir 7\n",
    "%mkdir 8\n",
    "%mkdir 9"
   ]
  },
  {
   "cell_type": "code",
   "execution_count": 5,
   "metadata": {},
   "outputs": [
    {
     "name": "stdout",
     "output_type": "stream",
     "text": [
      "/home/v-nitin.gupta/Desktop/keras/Sign-Language-Digits-Dataset/test\n"
     ]
    }
   ],
   "source": [
    "%cd ../test/\n",
    "%mkdir 0\n",
    "%mkdir 1\n",
    "%mkdir 2\n",
    "%mkdir 3\n",
    "%mkdir 4\n",
    "%mkdir 5\n",
    "%mkdir 6\n",
    "%mkdir 7\n",
    "%mkdir 8\n",
    "%mkdir 9"
   ]
  },
  {
   "cell_type": "code",
   "execution_count": 8,
   "metadata": {},
   "outputs": [
    {
     "name": "stderr",
     "output_type": "stream",
     "text": [
      "bash: line 1: fg: no job control\n"
     ]
    }
   ],
   "source": [
    "%%bash    \n",
    "%cd ../train/\n",
    "for ((i=0;i<=9;i++)); do\n",
    "    a=$(find $i/ -type f | shuf -n 30)\n",
    "    mv $a ../valid/$i/\n",
    "     a=$(find $i/ -type f | shuf -n 5)\n",
    "    mv $a ../test/$i/\n",
    "    \n",
    "done\n",
    "\n",
    "\n",
    "   "
   ]
  },
  {
   "cell_type": "code",
   "execution_count": null,
   "metadata": {},
   "outputs": [],
   "source": []
  }
 ],
 "metadata": {
  "kernelspec": {
   "display_name": "Python 3",
   "language": "python",
   "name": "python3"
  },
  "language_info": {
   "codemirror_mode": {
    "name": "ipython",
    "version": 3
   },
   "file_extension": ".py",
   "mimetype": "text/x-python",
   "name": "python",
   "nbconvert_exporter": "python",
   "pygments_lexer": "ipython3",
   "version": "3.7.1"
  }
 },
 "nbformat": 4,
 "nbformat_minor": 2
}
